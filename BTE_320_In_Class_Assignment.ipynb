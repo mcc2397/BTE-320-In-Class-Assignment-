{
  "nbformat": 4,
  "nbformat_minor": 0,
  "metadata": {
    "colab": {
      "provenance": [],
      "authorship_tag": "ABX9TyNWA0zAF1JZxevA5G0jGPhG",
      "include_colab_link": true
    },
    "kernelspec": {
      "name": "python3",
      "display_name": "Python 3"
    },
    "language_info": {
      "name": "python"
    }
  },
  "cells": [
    {
      "cell_type": "markdown",
      "metadata": {
        "id": "view-in-github",
        "colab_type": "text"
      },
      "source": [
        "<a href=\"https://colab.research.google.com/github/mcc2397/BTE-320-In-Class-Assignment-/blob/main/BTE_320_In_Class_Assignment.ipynb\" target=\"_parent\"><img src=\"https://colab.research.google.com/assets/colab-badge.svg\" alt=\"Open In Colab\"/></a>"
      ]
    },
    {
      "cell_type": "code",
      "source": [
        "#Income statement\n",
        "\n",
        "sales = float(input(\"Enter sales ($): \"))\n",
        "print(f\"Sales: ${sales}\")\n",
        "rate = float(input(\"Enter tax rate (%): \"))\n",
        "\n",
        "# Cost of Goods Sold\n",
        "cog = 0.4\n",
        "cog_sold = sales * cog\n",
        "print(f\"Cog: ${cog_sold}\")\n",
        "\n",
        "# Gross profit\n",
        "grossProfit = sales - (cog * sales)\n",
        "print(f\"Gross profit: ${grossProfit}\")\n",
        "\n",
        "# Taxes\n",
        "taxes = (rate / 100) * grossProfit\n",
        "print(f\"Taxes: ${taxes}\")\n",
        "\n",
        "# Net Income\n",
        "net_income = grossProfit - taxes\n",
        "print(f\"Net Income: ${net_income}\")"
      ],
      "metadata": {
        "colab": {
          "base_uri": "https://localhost:8080/"
        },
        "id": "Qkmbf0hqbsYY",
        "outputId": "74665d75-03cf-4162-af85-e25e2f227890"
      },
      "execution_count": null,
      "outputs": [
        {
          "output_type": "stream",
          "name": "stdout",
          "text": [
            "Enter sales ($): 12000\n",
            "Sales: $12000.0\n",
            "Enter tax rate (%): 30\n",
            "Cog: $4800.0\n",
            "Gross profit: $7200.0\n",
            "Taxes: $2160.0\n",
            "Net Income: $5040.0\n"
          ]
        }
      ]
    },
    {
      "cell_type": "code",
      "source": [
        "#Simple income statement calculation\n",
        "\n",
        "#Inputs: demand, reorder cost, and holding cost\n",
        "demand = int(input(\"Enter Demand (units/year): \"))\n",
        "\n",
        "reorder = float(input(\"Enter reorder cost ($/unit): \"))\n",
        "\n",
        "\n",
        "holding = float(input(\"Enter holding cost ($/unit/year): \"))\n",
        "\n",
        "# Process: Calculate EOQ\n",
        "EOQ = (2 * demand * reorder / holding) ** 0.5\n",
        "\n",
        "# Output: Display EOQ Value\n",
        "print(f\"EOQ = {EOQ} units\")\n"
      ],
      "metadata": {
        "colab": {
          "base_uri": "https://localhost:8080/"
        },
        "id": "P-o0apjznhbb",
        "outputId": "55ae225e-59e1-41ac-e8b5-e4cbad91b5a3"
      },
      "execution_count": null,
      "outputs": [
        {
          "output_type": "stream",
          "name": "stdout",
          "text": [
            "Enter Demand (units/year): 100\n",
            "Enter reorder cost ($/unit): 1.5\n",
            "Enter holding cost ($/unit/year): 3\n",
            "EOQ = 10.0 units\n"
          ]
        }
      ]
    },
    {
      "cell_type": "code",
      "source": [
        "#Numerical calculator\n",
        "\n",
        "num1 = float(input(\"First number: \"))\n",
        "num2 = float(input(\"Second number: \"))\n",
        "op = input (\"Choose numerical operator (+, -, *, /, //, **, %): \")\n",
        "\n",
        "if op == \"+\":\n",
        "    print(f\"{num1} + {num2} = {num1 + num2}\")\n",
        "elif op == \"-\":\n",
        "    print(f\"{num1} - {num2} = {num1 - num2}\")\n",
        "elif op == \"*\":\n",
        "    print(f\"{num1} * {num2} = {num1 * num2}\")\n",
        "elif op == \"/\":\n",
        "    print(f\"{num1} / {num2} = {num1 / num2}\")\n",
        "elif op == \"//\":\n",
        "    print(f\"{num1} // {num2} = {num1 // num2}\")\n",
        "elif op == \"**\":\n",
        "    print(f\"{num1} ** {num2} = {num1 ** num2}\")\n",
        "elif op == \"%\":\n",
        "    print(f\"{num1} mod {num2} = {num1 % num2}\")\n",
        "else:\n",
        "    print(\"Invalid operator\")\n"
      ],
      "metadata": {
        "colab": {
          "base_uri": "https://localhost:8080/"
        },
        "id": "57qTHX8pqS5x",
        "outputId": "c625c095-a909-4e4e-e6c7-1ae03dd992ad"
      },
      "execution_count": null,
      "outputs": [
        {
          "output_type": "stream",
          "name": "stdout",
          "text": [
            "First number: 8\n",
            "Second number: 5\n",
            "Choose numerical operator (+, -, *, /, //, **, %): #\n",
            "Invalid operator\n"
          ]
        }
      ]
    },
    {
      "cell_type": "code",
      "source": [
        "#Parking garage\n",
        "\n",
        "print(\"# of hours\\tFee\")\n",
        "print(\"--------------------\")\n",
        "for hours in range(1,9):\n",
        "  fee = 5 + hours * 2.5\n",
        "  if fee < 10:\n",
        "    fee = 10.0\n",
        "    print(f\"{hours}\\t\\t{fee}\")\n",
        "  elif fee > 20:\n",
        "    fee = 20.0\n",
        "    print(f\"{hours}\\t\\t{fee}\")\n",
        "  else:\n",
        "    print(f\"{hours}\\t\\t{fee}\")\n",
        "\n",
        "\n",
        "\n",
        "\n",
        "\n",
        "\n",
        "\n"
      ],
      "metadata": {
        "colab": {
          "base_uri": "https://localhost:8080/"
        },
        "id": "jvSRxub-b0nC",
        "outputId": "37b50275-766a-4f93-c2e0-94f1e4005508"
      },
      "execution_count": null,
      "outputs": [
        {
          "output_type": "stream",
          "name": "stdout",
          "text": [
            "# of hours\tFee\n",
            "--------------------\n",
            "1\t\t10.0\n",
            "2\t\t10.0\n",
            "3\t\t12.5\n",
            "4\t\t15.0\n",
            "5\t\t17.5\n",
            "6\t\t20.0\n",
            "7\t\t20.0\n",
            "8\t\t20.0\n"
          ]
        }
      ]
    },
    {
      "cell_type": "code",
      "source": [
        "#Append items to list iteratively\n",
        "\n",
        "numbers = []\n",
        "num = float(input(\"Enter a number: \"))\n",
        "\n",
        "while num !=0:\n",
        "  numbers.append(num)\n",
        "  num = float(input(\"Enter another number: \"))\n",
        "\n",
        "  numbers.sort(reverse=True)\n",
        "  print(numbers)\n"
      ],
      "metadata": {
        "colab": {
          "base_uri": "https://localhost:8080/"
        },
        "id": "l2_mFDvNyXE4",
        "outputId": "6ef45b3d-ba29-40db-bcbd-12cadb600861"
      },
      "execution_count": null,
      "outputs": [
        {
          "output_type": "stream",
          "name": "stdout",
          "text": [
            "Enter a number: 8\n",
            "Enter another number: 9\n",
            "[8.0]\n",
            "Enter another number: 3\n",
            "[9.0, 8.0]\n",
            "Enter another number: 4\n",
            "[9.0, 8.0, 3.0]\n",
            "Enter another number: 0\n",
            "[9.0, 8.0, 4.0, 3.0]\n"
          ]
        }
      ]
    },
    {
      "cell_type": "code",
      "source": [
        "#Movie theater\n",
        "\n",
        "for ad in range (0, 201, 25):\n",
        "  revenue = 10 * (20 + 2 * ad ** 0.5) - 200 - ad\n",
        "  print(ad, round(revenue,1))"
      ],
      "metadata": {
        "colab": {
          "base_uri": "https://localhost:8080/"
        },
        "id": "ScOiga-l7OjF",
        "outputId": "c7d153b7-1143-4585-f1c7-08f5d32fc2dc"
      },
      "execution_count": 2,
      "outputs": [
        {
          "output_type": "stream",
          "name": "stdout",
          "text": [
            "0 0.0\n",
            "25 75.0\n",
            "50 91.4\n",
            "75 98.2\n",
            "100 100.0\n",
            "125 98.6\n",
            "150 94.9\n",
            "175 89.6\n",
            "200 82.8\n"
          ]
        }
      ]
    }
  ]
}