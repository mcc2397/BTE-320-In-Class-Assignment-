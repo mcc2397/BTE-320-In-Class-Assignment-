{
  "nbformat": 4,
  "nbformat_minor": 0,
  "metadata": {
    "colab": {
      "provenance": [],
      "authorship_tag": "ABX9TyOuQ7U9iqUeuNpiHgqzwRY9",
      "include_colab_link": true
    },
    "kernelspec": {
      "name": "python3",
      "display_name": "Python 3"
    },
    "language_info": {
      "name": "python"
    }
  },
  "cells": [
    {
      "cell_type": "markdown",
      "metadata": {
        "id": "view-in-github",
        "colab_type": "text"
      },
      "source": [
        "<a href=\"https://colab.research.google.com/github/mcc2397/BTE-320-In-Class-Assignment-/blob/main/BTE_320_In_Class_Assignment.ipynb\" target=\"_parent\"><img src=\"https://colab.research.google.com/assets/colab-badge.svg\" alt=\"Open In Colab\"/></a>"
      ]
    },
    {
      "cell_type": "code",
      "source": [
        "sales = float(input(\"Enter sales ($): \"))\n",
        "print(f\"Sales: ${sales}\")\n",
        "rate = float(input(\"Enter tax rate (%): \"))\n",
        "\n",
        "# Cost of Goods Sold\n",
        "cog = 0.4\n",
        "cog_sold = sales * cog\n",
        "print(f\"Cog: ${cog_sold}\")\n",
        "\n",
        "# Gross profit\n",
        "grossProfit = sales - (cog * sales)\n",
        "print(f\"Gross profit: ${grossProfit}\")\n",
        "\n",
        "# Taxes\n",
        "taxes = (rate / 100) * grossProfit\n",
        "print(f\"Taxes: ${taxes}\")\n",
        "\n",
        "# Net Income\n",
        "net_income = grossProfit - taxes\n",
        "print(f\"Net Income: ${net_income}\")"
      ],
      "metadata": {
        "colab": {
          "base_uri": "https://localhost:8080/"
        },
        "id": "Qkmbf0hqbsYY",
        "outputId": "74665d75-03cf-4162-af85-e25e2f227890"
      },
      "execution_count": null,
      "outputs": [
        {
          "output_type": "stream",
          "name": "stdout",
          "text": [
            "Enter sales ($): 12000\n",
            "Sales: $12000.0\n",
            "Enter tax rate (%): 30\n",
            "Cog: $4800.0\n",
            "Gross profit: $7200.0\n",
            "Taxes: $2160.0\n",
            "Net Income: $5040.0\n"
          ]
        }
      ]
    },
    {
      "cell_type": "code",
      "source": [
        "#Inputs: demand, reorder cost, and holding cost\n",
        "demand = int(input(\"Enter Demand (units/year): \"))\n",
        "\n",
        "reorder = float(input(\"Enter reorder cost ($/unit): \"))\n",
        "\n",
        "\n",
        "holding = float(input(\"Enter holding cost ($/unit/year): \"))\n",
        "\n",
        "# Process: Calculate EOQ\n",
        "EOQ = (2 * demand * reorder / holding) ** 0.5\n",
        "\n",
        "# Output: Display EOQ Value\n",
        "print(f\"EOQ = {EOQ} units\")\n"
      ],
      "metadata": {
        "colab": {
          "base_uri": "https://localhost:8080/"
        },
        "id": "P-o0apjznhbb",
        "outputId": "55ae225e-59e1-41ac-e8b5-e4cbad91b5a3"
      },
      "execution_count": null,
      "outputs": [
        {
          "output_type": "stream",
          "name": "stdout",
          "text": [
            "Enter Demand (units/year): 100\n",
            "Enter reorder cost ($/unit): 1.5\n",
            "Enter holding cost ($/unit/year): 3\n",
            "EOQ = 10.0 units\n"
          ]
        }
      ]
    },
    {
      "cell_type": "code",
      "source": [
        "num1 = float(input(\"First number: \"))\n",
        "num2 = float(input(\"Second number: \"))\n",
        "op = input (\"Choose numerical operator (+, -, *, /, //, **, %): \")\n",
        "\n",
        "if op == \"+\":\n",
        "    print(f\"{num1} + {num2} = {num1 + num2}\")\n",
        "elif op == \"-\":\n",
        "    print(f\"{num1} - {num2} = {num1 - num2}\")\n",
        "elif op == \"*\":\n",
        "    print(f\"{num1} * {num2} = {num1 * num2}\")\n",
        "elif op == \"/\":\n",
        "    print(f\"{num1} / {num2} = {num1 / num2}\")\n",
        "elif op == \"//\":\n",
        "    print(f\"{num1} // {num2} = {num1 // num2}\")\n",
        "elif op == \"**\":\n",
        "    print(f\"{num1} ** {num2} = {num1 ** num2}\")\n",
        "elif op == \"%\":\n",
        "    print(f\"{num1} mod {num2} = {num1 % num2}\")\n",
        "else:\n",
        "    print(\"Invalid operator\")\n"
      ],
      "metadata": {
        "colab": {
          "base_uri": "https://localhost:8080/"
        },
        "id": "57qTHX8pqS5x",
        "outputId": "c625c095-a909-4e4e-e6c7-1ae03dd992ad"
      },
      "execution_count": null,
      "outputs": [
        {
          "output_type": "stream",
          "name": "stdout",
          "text": [
            "First number: 8\n",
            "Second number: 5\n",
            "Choose numerical operator (+, -, *, /, //, **, %): #\n",
            "Invalid operator\n"
          ]
        }
      ]
    },
    {
      "cell_type": "code",
      "source": [
        "print(\"# of hours\\tFee\")\n",
        "print(\"--------------------\")\n",
        "for hours in range(1,9):\n",
        "  fee = 5 + hours * 2.5\n",
        "  if fee < 10:\n",
        "    fee = 10.0\n",
        "    print(f\"{hours}\\t\\t{fee}\")\n",
        "  elif fee > 20:\n",
        "    fee = 20.0\n",
        "    print(f\"{hours}\\t\\t{fee}\")\n",
        "  else:\n",
        "    print(f\"{hours}\\t\\t{fee}\")\n",
        "\n",
        "\n",
        "\n",
        "\n",
        "\n",
        "\n",
        "\n"
      ],
      "metadata": {
        "colab": {
          "base_uri": "https://localhost:8080/"
        },
        "id": "jvSRxub-b0nC",
        "outputId": "37b50275-766a-4f93-c2e0-94f1e4005508"
      },
      "execution_count": null,
      "outputs": [
        {
          "output_type": "stream",
          "name": "stdout",
          "text": [
            "# of hours\tFee\n",
            "--------------------\n",
            "1\t\t10.0\n",
            "2\t\t10.0\n",
            "3\t\t12.5\n",
            "4\t\t15.0\n",
            "5\t\t17.5\n",
            "6\t\t20.0\n",
            "7\t\t20.0\n",
            "8\t\t20.0\n"
          ]
        }
      ]
    },
    {
      "cell_type": "code",
      "source": [
        "numbers = []\n",
        "num = float(input(\"Enter a number: \"))\n",
        "\n",
        "while num !=0:\n",
        "  numbers.append(num)\n",
        "  num = float(input(\"Enter another number: \"))\n",
        "\n",
        "  numbers.sort(reverse=True)\n",
        "  print(numbers)\n",
        ""
      ],
      "metadata": {
        "colab": {
          "base_uri": "https://localhost:8080/"
        },
        "id": "l2_mFDvNyXE4",
        "outputId": "6ef45b3d-ba29-40db-bcbd-12cadb600861"
      },
      "execution_count": 26,
      "outputs": [
        {
          "output_type": "stream",
          "name": "stdout",
          "text": [
            "Enter a number: 8\n",
            "Enter another number: 9\n",
            "[8.0]\n",
            "Enter another number: 3\n",
            "[9.0, 8.0]\n",
            "Enter another number: 4\n",
            "[9.0, 8.0, 3.0]\n",
            "Enter another number: 0\n",
            "[9.0, 8.0, 4.0, 3.0]\n"
          ]
        }
      ]
    },
    {
      "cell_type": "code",
      "source": [
        "min(numbers)"
      ],
      "metadata": {
        "colab": {
          "base_uri": "https://localhost:8080/"
        },
        "id": "QMFLjhS_4oWX",
        "outputId": "1a6825d6-08d2-478e-baa8-8ab06ef87924"
      },
      "execution_count": 27,
      "outputs": [
        {
          "output_type": "execute_result",
          "data": {
            "text/plain": [
              "3.0"
            ]
          },
          "metadata": {},
          "execution_count": 27
        }
      ]
    },
    {
      "cell_type": "code",
      "source": [
        "sum(numbers)"
      ],
      "metadata": {
        "colab": {
          "base_uri": "https://localhost:8080/"
        },
        "id": "z5Br56tK4q2n",
        "outputId": "0e467c1a-ab6e-4d90-8202-b7da14cbac58"
      },
      "execution_count": 28,
      "outputs": [
        {
          "output_type": "execute_result",
          "data": {
            "text/plain": [
              "24.0"
            ]
          },
          "metadata": {},
          "execution_count": 28
        }
      ]
    },
    {
      "cell_type": "code",
      "source": [
        "sum(numbers)/len(numbers)"
      ],
      "metadata": {
        "colab": {
          "base_uri": "https://localhost:8080/"
        },
        "id": "TlNP8lXz4s7L",
        "outputId": "d59d0fb8-d8c3-4481-ea66-84ef3fd8427a"
      },
      "execution_count": 29,
      "outputs": [
        {
          "output_type": "execute_result",
          "data": {
            "text/plain": [
              "6.0"
            ]
          },
          "metadata": {},
          "execution_count": 29
        }
      ]
    }
  ]
}